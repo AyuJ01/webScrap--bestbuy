{
 "cells": [
  {
   "cell_type": "code",
   "execution_count": 1,
   "metadata": {},
   "outputs": [
    {
     "name": "stderr",
     "output_type": "stream",
     "text": [
      "C:\\Users\\MG\\Anaconda3\\lib\\site-packages\\requests\\__init__.py:80: RequestsDependencyWarning: urllib3 (1.26.20) or chardet (3.0.4) doesn't match a supported version!\n",
      "  RequestsDependencyWarning)\n"
     ]
    }
   ],
   "source": [
    "import pandas as pd\n",
    "import requests\n",
    "from datetime import datetime\n",
    "import json"
   ]
  },
  {
   "cell_type": "code",
   "execution_count": 2,
   "metadata": {},
   "outputs": [],
   "source": [
    "URL = \"https://www.bestbuy.ca/api/v2/json/search?categoryid=&currentRegion=ON&include=facets%2C%20redirects&lang=en-CA&page=&pageSize=26&path=&query=17278649%2017933064%2015446190%2016566905%2018167161%2018470962%2017900147%2016566920%2017402244%2017745040%2017247081%2018150113&exp=&token=&contextId=&hasConsent=true&sortBy=relevance&sortDir=desc\""
   ]
  },
  {
   "cell_type": "code",
   "execution_count": 3,
   "metadata": {},
   "outputs": [],
   "source": [
    "\n",
    "headers = {\n",
    "    \"access-control-allow-headers\": \"Content-Type\",\n",
    "    \"access-control-allow-methods\": \"GET,HEAD\",\n",
    "    \"access-control-allow-origin\": \"https://m.bestbuy.ca\",\n",
    "    \"cache-control\": \"private, max-age=1021\",\n",
    "    \"content-encoding\": \"gzip\",\n",
    "    \"content-length\": \"5125\",\n",
    "    \"content-security-policy\": \"default-src 'none'; style-src 'self' 'unsafe-inline'; frame-ancestors 'none'\",\n",
    "    \"content-type\": \"application/json\",\n",
    "    \"date\": \"Sat, 01 Mar 2025 01:07:24 GMT\",\n",
    "    \"expires\": \"Sat, 01 Mar 2025 01:24:25 GMT\",\n",
    "    \"server-timing\": 'dtRpid;desc=\"1604244300\", dtSInfo;desc=\"0\"',\n",
    "    \"vary\": \"Accept-Encoding\",\n",
    "    \"x-content-type-options\": \"nosniff\",\n",
    "    \"x-frame-options\": \"DENY\",\n",
    "    \"x-oneagent-js-injection\": \"true\",\n",
    "    \"x-xss-protection\": \"1; mode=block\"\n",
    "}"
   ]
  },
  {
   "cell_type": "code",
   "execution_count": null,
   "metadata": {},
   "outputs": [],
   "source": [
    "response = requests.get(URL, headers= headers)\n"
   ]
  },
  {
   "cell_type": "code",
   "execution_count": null,
   "metadata": {},
   "outputs": [],
   "source": [
    "response_formatted = json.loads(response.content.decode('utf-8-sig').encode('utf-8'))"
   ]
  },
  {
   "cell_type": "code",
   "execution_count": null,
   "metadata": {},
   "outputs": [],
   "source": []
  }
 ],
 "metadata": {
  "kernelspec": {
   "display_name": "Python 3",
   "language": "python",
   "name": "python3"
  },
  "language_info": {
   "codemirror_mode": {
    "name": "ipython",
    "version": 3
   },
   "file_extension": ".py",
   "mimetype": "text/x-python",
   "name": "python",
   "nbconvert_exporter": "python",
   "pygments_lexer": "ipython3",
   "version": "3.6.4"
  }
 },
 "nbformat": 4,
 "nbformat_minor": 2
}
